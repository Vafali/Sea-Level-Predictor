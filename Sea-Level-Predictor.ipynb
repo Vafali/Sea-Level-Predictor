{
 "cells": [
  {
   "cell_type": "code",
   "execution_count": 237,
   "id": "afae4c24",
   "metadata": {
    "ExecuteTime": {
     "end_time": "2022-09-12T00:10:45.328489Z",
     "start_time": "2022-09-12T00:10:45.323501Z"
    }
   },
   "outputs": [],
   "source": [
    "import pandas as pd\n",
    "import matplotlib.pyplot as plt\n",
    "from scipy.stats import linregress"
   ]
  },
  {
   "cell_type": "markdown",
   "id": "c0ae9edf",
   "metadata": {},
   "source": [
    "**Use Pandas to import the data from epa-sea-level.csv.**"
   ]
  },
  {
   "cell_type": "code",
   "execution_count": 238,
   "id": "e2c71abb",
   "metadata": {
    "ExecuteTime": {
     "end_time": "2022-09-12T00:10:45.344445Z",
     "start_time": "2022-09-12T00:10:45.329508Z"
    }
   },
   "outputs": [
    {
     "data": {
      "text/html": [
       "<div>\n",
       "<style scoped>\n",
       "    .dataframe tbody tr th:only-of-type {\n",
       "        vertical-align: middle;\n",
       "    }\n",
       "\n",
       "    .dataframe tbody tr th {\n",
       "        vertical-align: top;\n",
       "    }\n",
       "\n",
       "    .dataframe thead th {\n",
       "        text-align: right;\n",
       "    }\n",
       "</style>\n",
       "<table border=\"1\" class=\"dataframe\">\n",
       "  <thead>\n",
       "    <tr style=\"text-align: right;\">\n",
       "      <th></th>\n",
       "      <th>Year</th>\n",
       "      <th>CSIRO Adjusted Sea Level</th>\n",
       "      <th>Lower Error Bound</th>\n",
       "      <th>Upper Error Bound</th>\n",
       "      <th>NOAA Adjusted Sea Level</th>\n",
       "    </tr>\n",
       "  </thead>\n",
       "  <tbody>\n",
       "    <tr>\n",
       "      <th>0</th>\n",
       "      <td>1880</td>\n",
       "      <td>0.000000</td>\n",
       "      <td>-0.952756</td>\n",
       "      <td>0.952756</td>\n",
       "      <td>NaN</td>\n",
       "    </tr>\n",
       "    <tr>\n",
       "      <th>1</th>\n",
       "      <td>1881</td>\n",
       "      <td>0.220472</td>\n",
       "      <td>-0.732283</td>\n",
       "      <td>1.173228</td>\n",
       "      <td>NaN</td>\n",
       "    </tr>\n",
       "    <tr>\n",
       "      <th>2</th>\n",
       "      <td>1882</td>\n",
       "      <td>-0.440945</td>\n",
       "      <td>-1.346457</td>\n",
       "      <td>0.464567</td>\n",
       "      <td>NaN</td>\n",
       "    </tr>\n",
       "    <tr>\n",
       "      <th>3</th>\n",
       "      <td>1883</td>\n",
       "      <td>-0.232283</td>\n",
       "      <td>-1.129921</td>\n",
       "      <td>0.665354</td>\n",
       "      <td>NaN</td>\n",
       "    </tr>\n",
       "    <tr>\n",
       "      <th>4</th>\n",
       "      <td>1884</td>\n",
       "      <td>0.590551</td>\n",
       "      <td>-0.283465</td>\n",
       "      <td>1.464567</td>\n",
       "      <td>NaN</td>\n",
       "    </tr>\n",
       "    <tr>\n",
       "      <th>...</th>\n",
       "      <td>...</td>\n",
       "      <td>...</td>\n",
       "      <td>...</td>\n",
       "      <td>...</td>\n",
       "      <td>...</td>\n",
       "    </tr>\n",
       "    <tr>\n",
       "      <th>129</th>\n",
       "      <td>2009</td>\n",
       "      <td>8.586614</td>\n",
       "      <td>8.311024</td>\n",
       "      <td>8.862205</td>\n",
       "      <td>8.046354</td>\n",
       "    </tr>\n",
       "    <tr>\n",
       "      <th>130</th>\n",
       "      <td>2010</td>\n",
       "      <td>8.901575</td>\n",
       "      <td>8.618110</td>\n",
       "      <td>9.185039</td>\n",
       "      <td>8.122973</td>\n",
       "    </tr>\n",
       "    <tr>\n",
       "      <th>131</th>\n",
       "      <td>2011</td>\n",
       "      <td>8.964567</td>\n",
       "      <td>8.661417</td>\n",
       "      <td>9.267717</td>\n",
       "      <td>8.053065</td>\n",
       "    </tr>\n",
       "    <tr>\n",
       "      <th>132</th>\n",
       "      <td>2012</td>\n",
       "      <td>9.326772</td>\n",
       "      <td>8.992126</td>\n",
       "      <td>9.661417</td>\n",
       "      <td>8.457058</td>\n",
       "    </tr>\n",
       "    <tr>\n",
       "      <th>133</th>\n",
       "      <td>2013</td>\n",
       "      <td>8.980315</td>\n",
       "      <td>8.622047</td>\n",
       "      <td>9.338583</td>\n",
       "      <td>8.546648</td>\n",
       "    </tr>\n",
       "  </tbody>\n",
       "</table>\n",
       "<p>134 rows × 5 columns</p>\n",
       "</div>"
      ],
      "text/plain": [
       "     Year  CSIRO Adjusted Sea Level  Lower Error Bound  Upper Error Bound  \\\n",
       "0    1880                  0.000000          -0.952756           0.952756   \n",
       "1    1881                  0.220472          -0.732283           1.173228   \n",
       "2    1882                 -0.440945          -1.346457           0.464567   \n",
       "3    1883                 -0.232283          -1.129921           0.665354   \n",
       "4    1884                  0.590551          -0.283465           1.464567   \n",
       "..    ...                       ...                ...                ...   \n",
       "129  2009                  8.586614           8.311024           8.862205   \n",
       "130  2010                  8.901575           8.618110           9.185039   \n",
       "131  2011                  8.964567           8.661417           9.267717   \n",
       "132  2012                  9.326772           8.992126           9.661417   \n",
       "133  2013                  8.980315           8.622047           9.338583   \n",
       "\n",
       "     NOAA Adjusted Sea Level  \n",
       "0                        NaN  \n",
       "1                        NaN  \n",
       "2                        NaN  \n",
       "3                        NaN  \n",
       "4                        NaN  \n",
       "..                       ...  \n",
       "129                 8.046354  \n",
       "130                 8.122973  \n",
       "131                 8.053065  \n",
       "132                 8.457058  \n",
       "133                 8.546648  \n",
       "\n",
       "[134 rows x 5 columns]"
      ]
     },
     "execution_count": 238,
     "metadata": {},
     "output_type": "execute_result"
    }
   ],
   "source": [
    "df_o = pd.read_csv(\"epa-sea-level.csv\")\n",
    "df_o"
   ]
  },
  {
   "cell_type": "markdown",
   "id": "1b1f83e9",
   "metadata": {},
   "source": [
    "**Use matplotlib to create a scatter plot using the Year column as the x-axis and the CSIRO Adjusted Sea Level column as the y-axix.**"
   ]
  },
  {
   "cell_type": "markdown",
   "id": "452696ac",
   "metadata": {},
   "source": [
    "**Use the linregress function from scipy.stats to get the slope and y-intercept of the line of best fit. Plot the line of best fit over the top of the scatter plot. Make the line go through the year 2050 to predict the sea level rise in 2050.**"
   ]
  },
  {
   "cell_type": "markdown",
   "id": "c131e260",
   "metadata": {},
   "source": [
    "**Plot a new line of best fit just using the data from year 2000 through the most recent year in the dataset. Make the line also go through the year 2050 to predict the sea level rise in 2050 if the rate of rise continues as it has since the year 2000.**"
   ]
  },
  {
   "cell_type": "markdown",
   "id": "4c960249",
   "metadata": {},
   "source": [
    "**The x label should be Year, the y label should be Sea Level (inches), and the title should be Rise in Sea Level.**"
   ]
  },
  {
   "cell_type": "code",
   "execution_count": 239,
   "id": "67f14324",
   "metadata": {
    "ExecuteTime": {
     "end_time": "2022-09-12T00:10:45.360402Z",
     "start_time": "2022-09-12T00:10:45.345443Z"
    }
   },
   "outputs": [],
   "source": [
    "def draw_plot():\n",
    "    missing_x = np.arange(2014, 2051, 1)\n",
    "    add_years = pd.DataFrame({\"Year\": missing_x})\n",
    "    df = pd.concat([df_o, add_years])\n",
    "\n",
    "    # Create scatter plot\n",
    "    plt.plot(x, y, \"bo\")\n",
    "\n",
    "    # Create first line of best fit\n",
    "    condition1 = df[\"Year\"] <= 2013\n",
    "    x1 = df.loc[condition1][\"Year\"]\n",
    "    y1 = df.loc[condition1][\"CSIRO Adjusted Sea Level\"]\n",
    "\n",
    "    linear_reg1 = linregress(x1, y1)\n",
    "    y_pred1 = linear_reg1.intercept + linear_reg1.slope * df[\"Year\"]\n",
    "    plt.plot(df[\"Year\"], y_pred1, \"r\", linewidth=3)\n",
    "\n",
    "    # Create second line of best fit\n",
    "    condition2 = (df[\"Year\"] >= 2000) & (df[\"Year\"] <= 2013)\n",
    "    x2 = df.loc[condition2][\"Year\"]\n",
    "    y2 = df.loc[condition2][\"CSIRO Adjusted Sea Level\"]\n",
    "\n",
    "    x3 = df.loc[df[\"Year\"] >= 2000][\"Year\"]\n",
    "\n",
    "    linear_reg2 = linregress(x2, y2)\n",
    "    y_pred2 = linear_reg2.intercept + linear_reg2.slope * x3\n",
    "    plt.plot(x3, y_pred2, \"orange\", linewidth=3)\n",
    "\n",
    "    # Add labels and title\n",
    "    plt.xlabel(\"Years\")\n",
    "    plt.ylabel(\"Sea Level (inches)\")\n",
    "    plt.title(\"Rise in Sea Level\")"
   ]
  },
  {
   "cell_type": "code",
   "execution_count": 240,
   "id": "d3804e0d",
   "metadata": {
    "ExecuteTime": {
     "end_time": "2022-09-12T00:10:45.483331Z",
     "start_time": "2022-09-12T00:10:45.362397Z"
    }
   },
   "outputs": [
    {
     "data": {
      "image/png": "[encoded data removed]",
      "text/plain": [
       "<Figure size 640x480 with 1 Axes>"
      ]
     },
     "metadata": {},
     "output_type": "display_data"
    }
   ],
   "source": [
    "draw_plot()"
   ]
  }
 ],
 "metadata": {
  "kernelspec": {
   "display_name": "Python 3 (ipykernel)",
   "language": "python",
   "name": "python3"
  },
  "language_info": {
   "codemirror_mode": {
    "name": "ipython",
    "version": 3
   },
   "file_extension": ".py",
   "mimetype": "text/x-python",
   "name": "python",
   "nbconvert_exporter": "python",
   "pygments_lexer": "ipython3",
   "version": "3.9.13"
  },
  "toc": {
   "base_numbering": 1,
   "nav_menu": {},
   "number_sections": true,
   "sideBar": true,
   "skip_h1_title": false,
   "title_cell": "Table of Contents",
   "title_sidebar": "Contents",
   "toc_cell": false,
   "toc_position": {},
   "toc_section_display": true,
   "toc_window_display": false
  },
  "varInspector": {
   "cols": {
    "lenName": 16,
    "lenType": 16,
    "lenVar": 40
   },
   "kernels_config": {
    "python": {
     "delete_cmd_postfix": "",
     "delete_cmd_prefix": "del ",
     "library": "var_list.py",
     "varRefreshCmd": "print(var_dic_list())"
    },
    "r": {
     "delete_cmd_postfix": ") ",
     "delete_cmd_prefix": "rm(",
     "library": "var_list.r",
     "varRefreshCmd": "cat(var_dic_list()) "
    }
   },
   "types_to_exclude": [
    "module",
    "function",
    "builtin_function_or_method",
    "instance",
    "_Feature"
   ],
   "window_display": false
  }
 },
 "nbformat": 4,
 "nbformat_minor": 5
}
